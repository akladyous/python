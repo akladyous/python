{
 "cells": [
  {
   "cell_type": "code",
   "execution_count": 166,
   "id": "a04a091b",
   "metadata": {},
   "outputs": [],
   "source": [
    "import random"
   ]
  },
  {
   "cell_type": "code",
   "execution_count": 115,
   "id": "c71d6a76",
   "metadata": {},
   "outputs": [],
   "source": [
    "l1 = [x for x in range(10)]"
   ]
  },
  {
   "cell_type": "code",
   "execution_count": 116,
   "id": "4e1b8a5b",
   "metadata": {},
   "outputs": [
    {
     "data": {
      "text/plain": [
       "[0, 1, 2, 3, 4, 5, 6, 7, 8, 9]"
      ]
     },
     "execution_count": 116,
     "metadata": {},
     "output_type": "execute_result"
    }
   ],
   "source": [
    "l1"
   ]
  },
  {
   "cell_type": "code",
   "execution_count": 117,
   "id": "c567225d",
   "metadata": {},
   "outputs": [
    {
     "data": {
      "text/plain": [
       "[1, 2, 3, 4, 5, 6]"
      ]
     },
     "execution_count": 117,
     "metadata": {},
     "output_type": "execute_result"
    }
   ],
   "source": [
    "l2 = [1,2,3, *[4,5,6]]\n",
    "l2"
   ]
  },
  {
   "cell_type": "code",
   "execution_count": 118,
   "id": "04457342",
   "metadata": {},
   "outputs": [],
   "source": [
    "s1 = \"hello\""
   ]
  },
  {
   "cell_type": "code",
   "execution_count": 119,
   "id": "ea94de24",
   "metadata": {},
   "outputs": [
    {
     "data": {
      "text/plain": [
       "5"
      ]
     },
     "execution_count": 119,
     "metadata": {},
     "output_type": "execute_result"
    }
   ],
   "source": [
    "len(s1)"
   ]
  },
  {
   "cell_type": "code",
   "execution_count": 120,
   "id": "e13cffbf",
   "metadata": {},
   "outputs": [
    {
     "data": {
      "text/plain": [
       "10"
      ]
     },
     "execution_count": 120,
     "metadata": {},
     "output_type": "execute_result"
    }
   ],
   "source": [
    "len(l1)"
   ]
  },
  {
   "cell_type": "code",
   "execution_count": 121,
   "id": "d30210e2",
   "metadata": {},
   "outputs": [
    {
     "data": {
      "text/plain": [
       "1"
      ]
     },
     "execution_count": 121,
     "metadata": {},
     "output_type": "execute_result"
    }
   ],
   "source": [
    "s1.count('h')"
   ]
  },
  {
   "cell_type": "code",
   "execution_count": 122,
   "id": "0c0bd177",
   "metadata": {},
   "outputs": [
    {
     "data": {
      "text/plain": [
       "1"
      ]
     },
     "execution_count": 122,
     "metadata": {},
     "output_type": "execute_result"
    }
   ],
   "source": [
    "l1.count(1)"
   ]
  },
  {
   "cell_type": "code",
   "execution_count": 123,
   "id": "540856d3",
   "metadata": {},
   "outputs": [],
   "source": [
    "l100 = [x for x in range(100)]"
   ]
  },
  {
   "cell_type": "code",
   "execution_count": 124,
   "id": "b50ebee7",
   "metadata": {},
   "outputs": [
    {
     "data": {
      "text/plain": [
       "[10, 12, 14, 16, 18]"
      ]
     },
     "execution_count": 124,
     "metadata": {},
     "output_type": "execute_result"
    }
   ],
   "source": [
    "l100[10:20:2]"
   ]
  },
  {
   "cell_type": "code",
   "execution_count": 125,
   "id": "6ed7664e",
   "metadata": {},
   "outputs": [
    {
     "name": "stdout",
     "output_type": "stream",
     "text": [
      "0\n",
      "1\n",
      "2\n",
      "3\n",
      "4\n",
      "5\n",
      "6\n",
      "7\n",
      "8\n",
      "9\n"
     ]
    }
   ],
   "source": [
    "for x in range(len(l1)) :\n",
    "    print(x)"
   ]
  },
  {
   "cell_type": "code",
   "execution_count": 126,
   "id": "8db67269",
   "metadata": {},
   "outputs": [
    {
     "data": {
      "text/plain": [
       "[0, 1, 2, 3, 4]"
      ]
     },
     "execution_count": 126,
     "metadata": {},
     "output_type": "execute_result"
    }
   ],
   "source": [
    "l2 = [x for x in range(5)]\n",
    "l2"
   ]
  },
  {
   "cell_type": "code",
   "execution_count": 127,
   "id": "553187ce",
   "metadata": {},
   "outputs": [],
   "source": [
    "clear_function = l2.clear()"
   ]
  },
  {
   "cell_type": "code",
   "execution_count": 128,
   "id": "00bf20d6",
   "metadata": {},
   "outputs": [
    {
     "data": {
      "text/plain": [
       "[]"
      ]
     },
     "execution_count": 128,
     "metadata": {},
     "output_type": "execute_result"
    }
   ],
   "source": [
    "l2"
   ]
  },
  {
   "cell_type": "code",
   "execution_count": 129,
   "id": "5819ec02",
   "metadata": {},
   "outputs": [
    {
     "name": "stdout",
     "output_type": "stream",
     "text": [
      "[1, 2, 3]\n"
     ]
    }
   ],
   "source": [
    "l1 = [1,2,3]\n",
    "l2 = l1.copy()\n",
    "print(l2)"
   ]
  },
  {
   "cell_type": "code",
   "execution_count": 130,
   "id": "6ca0a3dc",
   "metadata": {},
   "outputs": [
    {
     "name": "stdout",
     "output_type": "stream",
     "text": [
      "[0, 1, 4, 9, 16, 25, 36, 49, 64, 81]\n"
     ]
    }
   ],
   "source": [
    "empty_list = [None] * 10\n",
    "for x in range(len(empty_list)):\n",
    "    empty_list[x] = x ** 2\n",
    "    \n",
    "print(empty_list)"
   ]
  },
  {
   "cell_type": "code",
   "execution_count": 131,
   "id": "d1b06051",
   "metadata": {},
   "outputs": [
    {
     "data": {
      "text/plain": [
       "[[], [], [], [], [], [], [], [], [], []]"
      ]
     },
     "execution_count": 131,
     "metadata": {},
     "output_type": "execute_result"
    }
   ],
   "source": [
    "[[] for i in range(10)]"
   ]
  },
  {
   "cell_type": "code",
   "execution_count": 132,
   "id": "70e26e8c",
   "metadata": {},
   "outputs": [
    {
     "data": {
      "text/plain": [
       "1"
      ]
     },
     "execution_count": 132,
     "metadata": {},
     "output_type": "execute_result"
    }
   ],
   "source": [
    "int(1)"
   ]
  },
  {
   "cell_type": "code",
   "execution_count": 133,
   "id": "19cfc0d9",
   "metadata": {},
   "outputs": [
    {
     "data": {
      "text/plain": [
       "['A', 'B', 'C', 'D', 'E', 'F', 'G', 'H', 'I', 'J']"
      ]
     },
     "execution_count": 133,
     "metadata": {},
     "output_type": "execute_result"
    }
   ],
   "source": [
    "alphabet = [chr(x) for x in range(65, 65+26)]\n",
    "alphabet[:10]"
   ]
  },
  {
   "cell_type": "code",
   "execution_count": 134,
   "id": "198185f3",
   "metadata": {},
   "outputs": [],
   "source": [
    "for x in range(len(alphabet)):\n",
    "    # alphabet[x] = ord(alphabet[x])\n",
    "    alphabet[x] = \"character {} ASCII {}\".format(alphabet[x], ord(alphabet[x]))\n"
   ]
  },
  {
   "cell_type": "code",
   "execution_count": 135,
   "id": "d0d2c21b",
   "metadata": {},
   "outputs": [
    {
     "data": {
      "text/plain": [
       "['character A ASCII 65',\n",
       " 'character B ASCII 66',\n",
       " 'character C ASCII 67',\n",
       " 'character D ASCII 68',\n",
       " 'character E ASCII 69',\n",
       " 'character F ASCII 70',\n",
       " 'character G ASCII 71',\n",
       " 'character H ASCII 72',\n",
       " 'character I ASCII 73',\n",
       " 'character J ASCII 74']"
      ]
     },
     "execution_count": 135,
     "metadata": {},
     "output_type": "execute_result"
    }
   ],
   "source": [
    "alphabet[:10]\n"
   ]
  },
  {
   "cell_type": "code",
   "execution_count": 137,
   "id": "d9294b6e",
   "metadata": {},
   "outputs": [
    {
     "ename": "ValueError",
     "evalue": "'ASCII 65' is not in list",
     "output_type": "error",
     "traceback": [
      "\u001b[0;31m---------------------------------------------------------------------------\u001b[0m",
      "\u001b[0;31mValueError\u001b[0m                                Traceback (most recent call last)",
      "Cell \u001b[0;32mIn[137], line 1\u001b[0m\n\u001b[0;32m----> 1\u001b[0m \u001b[43malphabet\u001b[49m\u001b[38;5;241;43m.\u001b[39;49m\u001b[43mindex\u001b[49m\u001b[43m(\u001b[49m\u001b[38;5;124;43m'\u001b[39;49m\u001b[38;5;124;43mASCII 65\u001b[39;49m\u001b[38;5;124;43m'\u001b[39;49m\u001b[43m)\u001b[49m\n",
      "\u001b[0;31mValueError\u001b[0m: 'ASCII 65' is not in list"
     ]
    }
   ],
   "source": [
    "alphabet.index('ASCII 65')"
   ]
  },
  {
   "cell_type": "code",
   "execution_count": 138,
   "id": "a2bed0f2",
   "metadata": {},
   "outputs": [],
   "source": [
    "def find_item(array, item):\n",
    "    if item in array:\n",
    "        print(\"item found at index : {}\".format(array.index(item)))\n"
   ]
  },
  {
   "cell_type": "code",
   "execution_count": 139,
   "id": "bbda6c5e",
   "metadata": {},
   "outputs": [],
   "source": [
    "find_item(alphabet,  \"65\")"
   ]
  },
  {
   "cell_type": "code",
   "execution_count": 140,
   "id": "9173eb07",
   "metadata": {},
   "outputs": [
    {
     "name": "stdout",
     "output_type": "stream",
     "text": [
      "item found at index : 2\n"
     ]
    }
   ],
   "source": [
    "find_item(l1, 3)"
   ]
  },
  {
   "cell_type": "code",
   "execution_count": 165,
   "id": "d69d6fcc",
   "metadata": {},
   "outputs": [
    {
     "data": {
      "text/plain": [
       "[1, 2, 3, 4, 5, 6]"
      ]
     },
     "execution_count": 165,
     "metadata": {},
     "output_type": "execute_result"
    }
   ],
   "source": [
    "l1 = [x for x in range(1,6)]\n",
    "l1.insert(len(l1), len(l1)+1)\n",
    "l1"
   ]
  },
  {
   "cell_type": "code",
   "execution_count": 168,
   "id": "3f2b9051",
   "metadata": {},
   "outputs": [
    {
     "name": "stdout",
     "output_type": "stream",
     "text": [
      "[97, 82, 49, 69, 19, 32, 21, 41, 72, 52]\n"
     ]
    }
   ],
   "source": [
    "random_numbers = [random.randint(1, 100) for _ in range(10)]\n",
    "print(random_numbers)"
   ]
  },
  {
   "cell_type": "code",
   "execution_count": 169,
   "id": "11d0325c",
   "metadata": {},
   "outputs": [],
   "source": [
    "random_numbers.sort(key = lambda x:x)"
   ]
  },
  {
   "cell_type": "code",
   "execution_count": 170,
   "id": "7510f742",
   "metadata": {},
   "outputs": [
    {
     "data": {
      "text/plain": [
       "[19, 21, 32, 41, 49, 52, 69, 72, 82, 97]"
      ]
     },
     "execution_count": 170,
     "metadata": {},
     "output_type": "execute_result"
    }
   ],
   "source": [
    "random_numbers"
   ]
  },
  {
   "cell_type": "code",
   "execution_count": 171,
   "id": "658bf507",
   "metadata": {},
   "outputs": [],
   "source": [
    "numbers = [\"one\", \"two\", \"three\", \"four\", \"five\", \"six\", \"seven\", \"eight\", \"nine\", \"ten\"]\n"
   ]
  },
  {
   "cell_type": "code",
   "execution_count": 176,
   "id": "5c27246e",
   "metadata": {},
   "outputs": [
    {
     "data": {
      "text/plain": [
       "['three', 'seven', 'eight', 'four', 'five', 'nine', 'one', 'two', 'six', 'ten']"
      ]
     },
     "execution_count": 176,
     "metadata": {},
     "output_type": "execute_result"
    }
   ],
   "source": [
    "numbers.sort(key=lambda x: -len(x))\n",
    "numbers"
   ]
  },
  {
   "cell_type": "code",
   "execution_count": 220,
   "id": "a90b3b59",
   "metadata": {},
   "outputs": [],
   "source": [
    "fruits =  [\"apple\", \"banana\", \"cherry\", \"date\", \"elderberry\"]"
   ]
  },
  {
   "cell_type": "code",
   "execution_count": 221,
   "id": "8b245506",
   "metadata": {},
   "outputs": [],
   "source": [
    "fruits.sort(key=lambda f: -len(f))"
   ]
  },
  {
   "cell_type": "code",
   "execution_count": 224,
   "id": "799b5051",
   "metadata": {},
   "outputs": [],
   "source": [
    "for x in range(5):\n",
    "    random_index = random.randint(0, len(fruits)-1)\n",
    "    fruits.insert(random_index, \"mango\")"
   ]
  },
  {
   "cell_type": "code",
   "execution_count": 225,
   "id": "a099fc5a",
   "metadata": {},
   "outputs": [
    {
     "data": {
      "text/plain": [
       "['elderberry',\n",
       " 'mango',\n",
       " 'mango',\n",
       " 'mango',\n",
       " 'mango',\n",
       " 'mango',\n",
       " 'mango',\n",
       " 'mango',\n",
       " 'mango',\n",
       " 'banana',\n",
       " 'cherry',\n",
       " 'mango',\n",
       " 'mango',\n",
       " 'apple',\n",
       " 'date']"
      ]
     },
     "execution_count": 225,
     "metadata": {},
     "output_type": "execute_result"
    }
   ],
   "source": [
    "fruits"
   ]
  },
  {
   "cell_type": "code",
   "execution_count": 226,
   "id": "aadccbbf",
   "metadata": {},
   "outputs": [],
   "source": [
    "while \"mango\" in fruits:\n",
    "    fruits.remove(\"mango\")"
   ]
  },
  {
   "cell_type": "code",
   "execution_count": 227,
   "id": "2b2bfa3d",
   "metadata": {},
   "outputs": [
    {
     "data": {
      "text/plain": [
       "['elderberry', 'banana', 'cherry', 'apple', 'date']"
      ]
     },
     "execution_count": 227,
     "metadata": {},
     "output_type": "execute_result"
    }
   ],
   "source": [
    "fruits"
   ]
  },
  {
   "cell_type": "code",
   "execution_count": 228,
   "id": "74789207",
   "metadata": {},
   "outputs": [],
   "source": [
    "singleton = 'hello',"
   ]
  },
  {
   "cell_type": "code",
   "execution_count": 229,
   "id": "79368796",
   "metadata": {},
   "outputs": [
    {
     "data": {
      "text/plain": [
       "1"
      ]
     },
     "execution_count": 229,
     "metadata": {},
     "output_type": "execute_result"
    }
   ],
   "source": [
    "len(singleton)"
   ]
  },
  {
   "cell_type": "code",
   "execution_count": 230,
   "id": "2fffaaaf",
   "metadata": {},
   "outputs": [
    {
     "data": {
      "text/plain": [
       "'hello'"
      ]
     },
     "execution_count": 230,
     "metadata": {},
     "output_type": "execute_result"
    }
   ],
   "source": [
    "singleton[0]"
   ]
  },
  {
   "cell_type": "code",
   "execution_count": 231,
   "id": "898689e0",
   "metadata": {},
   "outputs": [
    {
     "data": {
      "text/plain": [
       "('hello',)"
      ]
     },
     "execution_count": 231,
     "metadata": {},
     "output_type": "execute_result"
    }
   ],
   "source": [
    "singleton"
   ]
  },
  {
   "cell_type": "code",
   "execution_count": null,
   "id": "e3b1e2e7",
   "metadata": {},
   "outputs": [],
   "source": []
  }
 ],
 "metadata": {
  "kernelspec": {
   "display_name": "Python 3 (ipykernel)",
   "language": "python",
   "name": "python3"
  },
  "language_info": {
   "codemirror_mode": {
    "name": "ipython",
    "version": 3
   },
   "file_extension": ".py",
   "mimetype": "text/x-python",
   "name": "python",
   "nbconvert_exporter": "python",
   "pygments_lexer": "ipython3",
   "version": "3.10.8"
  }
 },
 "nbformat": 4,
 "nbformat_minor": 5
}
