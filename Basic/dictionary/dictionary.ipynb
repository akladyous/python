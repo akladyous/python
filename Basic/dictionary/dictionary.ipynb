{
 "cells": [
  {
   "cell_type": "code",
   "execution_count": 8,
   "id": "1390fb36",
   "metadata": {},
   "outputs": [
    {
     "ename": "ModuleNotFoundError",
     "evalue": "No module named 'pandas'",
     "output_type": "error",
     "traceback": [
      "\u001b[0;31m---------------------------------------------------------------------------\u001b[0m",
      "\u001b[0;31mModuleNotFoundError\u001b[0m                       Traceback (most recent call last)",
      "Cell \u001b[0;32mIn[8], line 1\u001b[0m\n\u001b[0;32m----> 1\u001b[0m \u001b[38;5;28;01mimport\u001b[39;00m \u001b[38;5;21;01mpandas\u001b[39;00m \u001b[38;5;28;01mas\u001b[39;00m \u001b[38;5;21;01mpd\u001b[39;00m\n",
      "\u001b[0;31mModuleNotFoundError\u001b[0m: No module named 'pandas'"
     ]
    }
   ],
   "source": [
    "import pandas as pd"
   ]
  },
  {
   "cell_type": "code",
   "execution_count": 6,
   "id": "ecdf592d",
   "metadata": {},
   "outputs": [],
   "source": [
    "u1 = {\n",
    "    \"id\": 1,\n",
    "    \"name\": \"Leanne Graham\",\n",
    "    \"username\": \"Bret\",\n",
    "    \"email\": \"Sincere@april.biz\",\n",
    "    \"address\": {\n",
    "      \"street\": \"Kulas Light\",\n",
    "      \"suite\": \"Apt. 556\",\n",
    "      \"city\": \"Gwenborough\",\n",
    "      \"zipcode\": \"92998-3874\",\n",
    "      \"geo\": {\n",
    "        \"lat\": \"-37.3159\",\n",
    "        \"lng\": \"81.1496\"\n",
    "      }\n",
    "    },\n",
    "    \"phone\": \"1-770-736-8031 x56442\",\n",
    "    \"website\": \"hildegard.org\",\n",
    "    \"company\": {\n",
    "      \"name\": \"Romaguera-Crona\",\n",
    "      \"catchPhrase\": \"Multi-layered client-server neural-net\",\n",
    "      \"bs\": \"harness real-time e-markets\"\n",
    "    }\n",
    "  }"
   ]
  },
  {
   "cell_type": "code",
   "execution_count": 1,
   "id": "d38babce",
   "metadata": {},
   "outputs": [],
   "source": [
    "d1 = {'name': \"paolo\"}"
   ]
  },
  {
   "cell_type": "code",
   "execution_count": null,
   "id": "1294ce01",
   "metadata": {},
   "outputs": [],
   "source": [
    "d1."
   ]
  },
  {
   "cell_type": "code",
   "execution_count": 4,
   "id": "f17bdc2a",
   "metadata": {},
   "outputs": [
    {
     "data": {
      "text/plain": [
       "{'name': 'paolo'}"
      ]
     },
     "execution_count": 4,
     "metadata": {},
     "output_type": "execute_result"
    }
   ],
   "source": [
    "d2 = d1.copy()\n",
    "d2"
   ]
  },
  {
   "cell_type": "code",
   "execution_count": 5,
   "id": "842367bd",
   "metadata": {},
   "outputs": [],
   "source": [
    "x = ('key1', 'key2', 'key3')\n",
    "y=0"
   ]
  },
  {
   "cell_type": "code",
   "execution_count": 6,
   "id": "32824b0a",
   "metadata": {},
   "outputs": [
    {
     "data": {
      "text/plain": [
       "{'key1': 0, 'key2': 0, 'key3': 0}"
      ]
     },
     "execution_count": 6,
     "metadata": {},
     "output_type": "execute_result"
    }
   ],
   "source": [
    "dict.fromkeys(x, y)"
   ]
  },
  {
   "cell_type": "code",
   "execution_count": 7,
   "id": "c71370c8",
   "metadata": {},
   "outputs": [
    {
     "data": {
      "text/plain": [
       "['id', 'name', 'username', 'email', 'address', 'phone', 'website', 'company']"
      ]
     },
     "execution_count": 7,
     "metadata": {},
     "output_type": "execute_result"
    }
   ],
   "source": [
    "user_keys = list(u1.keys())\n",
    "user_keys"
   ]
  },
  {
   "cell_type": "code",
   "execution_count": 8,
   "id": "9197875c",
   "metadata": {},
   "outputs": [
    {
     "data": {
      "text/plain": [
       "{'id': None,\n",
       " 'name': None,\n",
       " 'username': None,\n",
       " 'email': None,\n",
       " 'address': None,\n",
       " 'phone': None,\n",
       " 'website': None,\n",
       " 'company': None}"
      ]
     },
     "execution_count": 8,
     "metadata": {},
     "output_type": "execute_result"
    }
   ],
   "source": [
    "new_user = dict.fromkeys(user_keys, None)\n",
    "new_user"
   ]
  },
  {
   "cell_type": "code",
   "execution_count": 9,
   "id": "37cce388",
   "metadata": {},
   "outputs": [],
   "source": [
    "data = {\n",
    "    \"id\": None,\n",
    "    \"name\": None,\n",
    "    \"username\": None,\n",
    "    \"email\": None,\n",
    "    \"address\": {\n",
    "        \"street\": None,\n",
    "        \"suite\": None,\n",
    "        \"city\": None,\n",
    "        \"zipcode\": None,\n",
    "        \"geo\": {\"lat\": None, \"lng\": None},\n",
    "    },\n",
    "    \"phone\": None,\n",
    "    \"website\": None,\n",
    "    \"company\": {\n",
    "        \"name\": None,\n",
    "        \"catchPhrase\": None,\n",
    "        \"bs\": None,\n",
    "    },\n",
    "}"
   ]
  },
  {
   "cell_type": "code",
   "execution_count": 10,
   "id": "7af7aafd",
   "metadata": {},
   "outputs": [],
   "source": [
    "def get_all_keys(data, level=[]):\n",
    "    keys = []\n",
    "    for key, value in data.items():\n",
    "        current_level = level + [key]  # Append the current key to the current level\n",
    "        keys.append(current_level)  # Store the current level as a key\n",
    "        if isinstance(value, dict):\n",
    "            nested_keys = get_all_keys(value, level=current_level)  # Recursively get keys from nested dictionaries\n",
    "            keys.extend(nested_keys)  # Extend the keys list with the nested keys\n",
    "    return keys\n",
    "#     print(\"-\" * 50)\n",
    "#     print(level)"
   ]
  },
  {
   "cell_type": "code",
   "execution_count": 11,
   "id": "0d230f76",
   "metadata": {},
   "outputs": [
    {
     "ename": "NameError",
     "evalue": "name 'process_data' is not defined",
     "output_type": "error",
     "traceback": [
      "\u001b[0;31m---------------------------------------------------------------------------\u001b[0m",
      "\u001b[0;31mNameError\u001b[0m                                 Traceback (most recent call last)",
      "Cell \u001b[0;32mIn[11], line 1\u001b[0m\n\u001b[0;32m----> 1\u001b[0m \u001b[43mprocess_data\u001b[49m(data)\n",
      "\u001b[0;31mNameError\u001b[0m: name 'process_data' is not defined"
     ]
    }
   ],
   "source": [
    "process_data(data)"
   ]
  },
  {
   "cell_type": "code",
   "execution_count": null,
   "id": "f3a0c820",
   "metadata": {},
   "outputs": [],
   "source": [
    "u1_keys = u1.keys()\n",
    "u1_keys"
   ]
  },
  {
   "cell_type": "code",
   "execution_count": 12,
   "id": "af837d59",
   "metadata": {},
   "outputs": [],
   "source": [
    "l1 = []"
   ]
  },
  {
   "cell_type": "code",
   "execution_count": 13,
   "id": "805550eb",
   "metadata": {},
   "outputs": [
    {
     "data": {
      "text/plain": [
       "[1, 2, 3]"
      ]
     },
     "execution_count": 13,
     "metadata": {},
     "output_type": "execute_result"
    }
   ],
   "source": [
    "l1 + [1,2,3]"
   ]
  },
  {
   "cell_type": "code",
   "execution_count": 14,
   "id": "f204ece7",
   "metadata": {},
   "outputs": [],
   "source": [
    "l2 = list()"
   ]
  },
  {
   "cell_type": "code",
   "execution_count": 15,
   "id": "b2249e5d",
   "metadata": {},
   "outputs": [
    {
     "data": {
      "text/plain": [
       "list"
      ]
     },
     "execution_count": 15,
     "metadata": {},
     "output_type": "execute_result"
    }
   ],
   "source": [
    "type(l2)"
   ]
  },
  {
   "cell_type": "code",
   "execution_count": 16,
   "id": "99ac3f1f",
   "metadata": {},
   "outputs": [],
   "source": [
    "s1 = set()\n"
   ]
  },
  {
   "cell_type": "code",
   "execution_count": 17,
   "id": "912f3e6a",
   "metadata": {},
   "outputs": [],
   "source": [
    "user =  {\"name\": \"alex\"}"
   ]
  },
  {
   "cell_type": "code",
   "execution_count": 18,
   "id": "8711ab71",
   "metadata": {},
   "outputs": [],
   "source": [
    "user.get(\"age\", None)"
   ]
  },
  {
   "cell_type": "code",
   "execution_count": 19,
   "id": "46c542b8",
   "metadata": {},
   "outputs": [
    {
     "data": {
      "text/plain": [
       "{'name': 'alex'}"
      ]
     },
     "execution_count": 19,
     "metadata": {},
     "output_type": "execute_result"
    }
   ],
   "source": [
    "user"
   ]
  },
  {
   "cell_type": "code",
   "execution_count": 20,
   "id": "1879efea",
   "metadata": {},
   "outputs": [
    {
     "data": {
      "text/plain": [
       "[]"
      ]
     },
     "execution_count": 20,
     "metadata": {},
     "output_type": "execute_result"
    }
   ],
   "source": [
    "user.setdefault(\"roles\", [])"
   ]
  },
  {
   "cell_type": "code",
   "execution_count": 21,
   "id": "dc0352f8",
   "metadata": {},
   "outputs": [
    {
     "data": {
      "text/plain": [
       "{'name': 'alex', 'roles': []}"
      ]
     },
     "execution_count": 21,
     "metadata": {},
     "output_type": "execute_result"
    }
   ],
   "source": [
    "user"
   ]
  },
  {
   "cell_type": "code",
   "execution_count": 22,
   "id": "45acd16a",
   "metadata": {},
   "outputs": [],
   "source": [
    "user['roles'].extend([\"user\", \"admin\", \"supervisor\"])"
   ]
  },
  {
   "cell_type": "code",
   "execution_count": 23,
   "id": "8adcfe35",
   "metadata": {},
   "outputs": [
    {
     "data": {
      "text/plain": [
       "{'name': 'alex', 'roles': ['user', 'admin', 'supervisor']}"
      ]
     },
     "execution_count": 23,
     "metadata": {},
     "output_type": "execute_result"
    }
   ],
   "source": [
    "user"
   ]
  },
  {
   "cell_type": "code",
   "execution_count": 24,
   "id": "1edb4b39",
   "metadata": {},
   "outputs": [],
   "source": [
    "user.setdefault('status', []).extend([\"active\", \"inactive\"])"
   ]
  },
  {
   "cell_type": "code",
   "execution_count": 25,
   "id": "39e57ed7",
   "metadata": {},
   "outputs": [
    {
     "data": {
      "text/plain": [
       "{'name': 'alex',\n",
       " 'roles': ['user', 'admin', 'supervisor'],\n",
       " 'status': ['active', 'inactive']}"
      ]
     },
     "execution_count": 25,
     "metadata": {},
     "output_type": "execute_result"
    }
   ],
   "source": [
    "user"
   ]
  },
  {
   "cell_type": "code",
   "execution_count": 26,
   "id": "2e8541e1",
   "metadata": {},
   "outputs": [
    {
     "ename": "KeyError",
     "evalue": "'age'",
     "output_type": "error",
     "traceback": [
      "\u001b[0;31m---------------------------------------------------------------------------\u001b[0m",
      "\u001b[0;31mKeyError\u001b[0m                                  Traceback (most recent call last)",
      "Cell \u001b[0;32mIn[26], line 1\u001b[0m\n\u001b[0;32m----> 1\u001b[0m \u001b[43muser\u001b[49m\u001b[38;5;241;43m.\u001b[39;49m\u001b[43mpop\u001b[49m\u001b[43m(\u001b[49m\u001b[38;5;124;43m\"\u001b[39;49m\u001b[38;5;124;43mage\u001b[39;49m\u001b[38;5;124;43m\"\u001b[39;49m\u001b[43m)\u001b[49m\n",
      "\u001b[0;31mKeyError\u001b[0m: 'age'"
     ]
    }
   ],
   "source": [
    "user.pop(\"age\")"
   ]
  },
  {
   "cell_type": "code",
   "execution_count": 27,
   "id": "4f1162c6",
   "metadata": {},
   "outputs": [
    {
     "data": {
      "text/plain": [
       "{'name': 'alex',\n",
       " 'roles': ['user', 'admin', 'supervisor'],\n",
       " 'status': ['active', 'inactive'],\n",
       " 'is_active': False}"
      ]
     },
     "execution_count": 27,
     "metadata": {},
     "output_type": "execute_result"
    }
   ],
   "source": [
    "user[\"is_active\"] = False\n",
    "user"
   ]
  },
  {
   "cell_type": "code",
   "execution_count": 28,
   "id": "717edbae",
   "metadata": {},
   "outputs": [
    {
     "data": {
      "text/plain": [
       "('is_active', False)"
      ]
     },
     "execution_count": 28,
     "metadata": {},
     "output_type": "execute_result"
    }
   ],
   "source": [
    "last_deleted_pair = user.popitem()\n",
    "last_deleted_pair"
   ]
  },
  {
   "cell_type": "code",
   "execution_count": 29,
   "id": "c451aa43",
   "metadata": {},
   "outputs": [
    {
     "data": {
      "text/plain": [
       "tuple"
      ]
     },
     "execution_count": 29,
     "metadata": {},
     "output_type": "execute_result"
    }
   ],
   "source": [
    "type(last_deleted_pair)"
   ]
  },
  {
   "cell_type": "code",
   "execution_count": 30,
   "id": "416ab38a",
   "metadata": {},
   "outputs": [
    {
     "data": {
      "text/plain": [
       "2"
      ]
     },
     "execution_count": 30,
     "metadata": {},
     "output_type": "execute_result"
    }
   ],
   "source": [
    "len(last_deleted_pair)"
   ]
  },
  {
   "cell_type": "code",
   "execution_count": 31,
   "id": "99caee9f",
   "metadata": {},
   "outputs": [
    {
     "data": {
      "text/plain": [
       "{'name': 'alex',\n",
       " 'roles': ['user', 'admin', 'supervisor'],\n",
       " 'status': ['active', 'inactive']}"
      ]
     },
     "execution_count": 31,
     "metadata": {},
     "output_type": "execute_result"
    }
   ],
   "source": [
    "user"
   ]
  },
  {
   "cell_type": "code",
   "execution_count": 32,
   "id": "284b5d7f",
   "metadata": {},
   "outputs": [
    {
     "data": {
      "text/plain": [
       "3"
      ]
     },
     "execution_count": 32,
     "metadata": {},
     "output_type": "execute_result"
    }
   ],
   "source": [
    "len(user)"
   ]
  },
  {
   "cell_type": "code",
   "execution_count": 33,
   "id": "1538d6b1",
   "metadata": {},
   "outputs": [
    {
     "data": {
      "text/plain": [
       "{'name': 'alex',\n",
       " 'roles': ['user', 'admin', 'supervisor'],\n",
       " 'status': ['active', 'inactive'],\n",
       " 'is_active': True}"
      ]
     },
     "execution_count": 33,
     "metadata": {},
     "output_type": "execute_result"
    }
   ],
   "source": [
    "user.update({\"is_active\": True})\n",
    "user"
   ]
  },
  {
   "cell_type": "code",
   "execution_count": 34,
   "id": "01c80f12",
   "metadata": {},
   "outputs": [
    {
     "name": "stdout",
     "output_type": "stream",
     "text": [
      "current user is active!\n"
     ]
    }
   ],
   "source": [
    "if user['is_active']: \n",
    "    print('current user is active!')\n"
   ]
  },
  {
   "cell_type": "code",
   "execution_count": 35,
   "id": "e40581ee",
   "metadata": {},
   "outputs": [
    {
     "name": "stdout",
     "output_type": "stream",
     "text": [
      "alex\n",
      "['user', 'admin', 'supervisor']\n",
      "['active', 'inactive']\n",
      "True\n"
     ]
    }
   ],
   "source": [
    "for prop in user:\n",
    "    print(user[prop])"
   ]
  },
  {
   "cell_type": "code",
   "execution_count": 36,
   "id": "7bf50961",
   "metadata": {},
   "outputs": [
    {
     "data": {
      "text/plain": [
       "dict_values(['alex', ['user', 'admin', 'supervisor'], ['active', 'inactive'], True])"
      ]
     },
     "execution_count": 36,
     "metadata": {},
     "output_type": "execute_result"
    }
   ],
   "source": [
    "user.values()"
   ]
  },
  {
   "cell_type": "code",
   "execution_count": 37,
   "id": "0aa76afa",
   "metadata": {},
   "outputs": [
    {
     "data": {
      "text/plain": [
       "dict_keys(['name', 'roles', 'status', 'is_active'])"
      ]
     },
     "execution_count": 37,
     "metadata": {},
     "output_type": "execute_result"
    }
   ],
   "source": [
    "user.keys()"
   ]
  },
  {
   "cell_type": "code",
   "execution_count": null,
   "id": "731ca118",
   "metadata": {},
   "outputs": [],
   "source": []
  },
  {
   "cell_type": "code",
   "execution_count": 38,
   "id": "5012abfa",
   "metadata": {},
   "outputs": [],
   "source": [
    "def sum2Nums(x,y): return x+y"
   ]
  },
  {
   "cell_type": "code",
   "execution_count": 39,
   "id": "269998f0",
   "metadata": {},
   "outputs": [],
   "source": [
    "myfunc = sum2Nums"
   ]
  },
  {
   "cell_type": "code",
   "execution_count": 40,
   "id": "83e9aa6c",
   "metadata": {},
   "outputs": [
    {
     "data": {
      "text/plain": [
       "2"
      ]
     },
     "execution_count": 40,
     "metadata": {},
     "output_type": "execute_result"
    }
   ],
   "source": [
    "myfunc(1,1)"
   ]
  },
  {
   "cell_type": "code",
   "execution_count": 41,
   "id": "8e0d6494",
   "metadata": {},
   "outputs": [
    {
     "data": {
      "text/plain": [
       "['2', '3', '4', '5', '6', '7', '8', '9', '10', 'J', 'Q', 'K', 'A']"
      ]
     },
     "execution_count": 41,
     "metadata": {},
     "output_type": "execute_result"
    }
   ],
   "source": [
    "[str(n) for n in range(2, 11)] + list('JQKA')"
   ]
  },
  {
   "cell_type": "code",
   "execution_count": 42,
   "id": "d68f9f06",
   "metadata": {},
   "outputs": [],
   "source": [
    "string_one = \"hello\""
   ]
  },
  {
   "cell_type": "code",
   "execution_count": 43,
   "id": "75224695",
   "metadata": {},
   "outputs": [
    {
     "data": {
      "text/plain": [
       "['h', 'e', 'l', 'l', 'o']"
      ]
     },
     "execution_count": 43,
     "metadata": {},
     "output_type": "execute_result"
    }
   ],
   "source": [
    "list(string_one)"
   ]
  },
  {
   "cell_type": "code",
   "execution_count": 44,
   "id": "65ec12a8",
   "metadata": {},
   "outputs": [
    {
     "name": "stdout",
     "output_type": "stream",
     "text": [
      "[10, 20]\n",
      "[30, 40, 50, 60]\n"
     ]
    }
   ],
   "source": [
    "l=[10, 20, 30, 40, 50, 60]\n",
    "print(l[:2])\n",
    "print(l[2:])"
   ]
  },
  {
   "cell_type": "code",
   "execution_count": 45,
   "id": "591e8725",
   "metadata": {},
   "outputs": [],
   "source": [
    "s1 = \"bicycle\""
   ]
  },
  {
   "cell_type": "code",
   "execution_count": 46,
   "id": "2fee2b6c",
   "metadata": {},
   "outputs": [
    {
     "data": {
      "text/plain": [
       "'elcycib'"
      ]
     },
     "execution_count": 46,
     "metadata": {},
     "output_type": "execute_result"
    }
   ],
   "source": [
    "s1[::-1]"
   ]
  },
  {
   "cell_type": "code",
   "execution_count": 47,
   "id": "de3ba925",
   "metadata": {},
   "outputs": [
    {
     "data": {
      "text/plain": [
       "'bcce'"
      ]
     },
     "execution_count": 47,
     "metadata": {},
     "output_type": "execute_result"
    }
   ],
   "source": [
    "s1[::2]"
   ]
  },
  {
   "cell_type": "code",
   "execution_count": 48,
   "id": "e792ec6b",
   "metadata": {},
   "outputs": [
    {
     "data": {
      "text/plain": [
       "'bicycle'"
      ]
     },
     "execution_count": 48,
     "metadata": {},
     "output_type": "execute_result"
    }
   ],
   "source": []
  },
  {
   "cell_type": "code",
   "execution_count": null,
   "id": "a54d206f",
   "metadata": {},
   "outputs": [],
   "source": []
  }
 ],
 "metadata": {
  "kernelspec": {
   "display_name": "Python 3 (ipykernel)",
   "language": "python",
   "name": "python3"
  },
  "language_info": {
   "codemirror_mode": {
    "name": "ipython",
    "version": 3
   },
   "file_extension": ".py",
   "mimetype": "text/x-python",
   "name": "python",
   "nbconvert_exporter": "python",
   "pygments_lexer": "ipython3",
   "version": "3.11.3"
  }
 },
 "nbformat": 4,
 "nbformat_minor": 5
}
