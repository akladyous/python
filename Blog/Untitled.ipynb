{
 "cells": [
  {
   "cell_type": "code",
   "execution_count": null,
   "id": "precious-temple",
   "metadata": {},
   "outputs": [],
   "source": []
  },
  {
   "cell_type": "markdown",
   "id": "horizontal-algorithm",
   "metadata": {},
   "source": [
    "Index all *except* one item in python"
   ]
  },
  {
   "cell_type": "markdown",
   "id": "cutting-translator",
   "metadata": {},
   "source": [
    "-escludere elementi in base al loro valore\n",
    "\n",
    "-escludere elementi in base al loro indice\n",
    "\n",
    "-escludere elementi presenti in altra lista"
   ]
  },
  {
   "cell_type": "code",
   "execution_count": 243,
   "id": "bacterial-dispatch",
   "metadata": {},
   "outputs": [
    {
     "data": {
      "text/plain": [
       "[10, 11, 12, 13, 14, 15, 16, 17, 18, 19, 20]"
      ]
     },
     "execution_count": 243,
     "metadata": {},
     "output_type": "execute_result"
    }
   ],
   "source": [
    "a1=list(range(10,21))#[::-1]\n",
    "a1"
   ]
  },
  {
   "cell_type": "code",
   "execution_count": 251,
   "id": "central-chart",
   "metadata": {},
   "outputs": [],
   "source": [
    "b1=[num for i,num in enumerate(a1) if num!= 15]"
   ]
  },
  {
   "cell_type": "code",
   "execution_count": 252,
   "id": "rolled-pakistan",
   "metadata": {},
   "outputs": [
    {
     "data": {
      "text/plain": [
       "[10, 11, 12, 13, 14, 16, 17, 18, 19, 20]"
      ]
     },
     "execution_count": 252,
     "metadata": {},
     "output_type": "execute_result"
    }
   ],
   "source": [
    "b1"
   ]
  }
 ],
 "metadata": {
  "kernelspec": {
   "display_name": "python_env",
   "language": "python",
   "name": "python_env"
  },
  "language_info": {
   "codemirror_mode": {
    "name": "ipython",
    "version": 3
   },
   "file_extension": ".py",
   "mimetype": "text/x-python",
   "name": "python",
   "nbconvert_exporter": "python",
   "pygments_lexer": "ipython3",
   "version": "3.8.8"
  }
 },
 "nbformat": 4,
 "nbformat_minor": 5
}
