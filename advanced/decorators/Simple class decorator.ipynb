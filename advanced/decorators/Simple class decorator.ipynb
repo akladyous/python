{
 "cells": [
  {
   "cell_type": "code",
   "execution_count": 1,
   "metadata": {},
   "outputs": [
    {
     "name": "stdout",
     "output_type": "stream",
     "text": [
      "inside my_decorator.__init__()\n",
      "inside aFunction()\n",
      "Finished decorating aFunction()\n",
      "inside my_decorator.__call__()\n"
     ]
    }
   ],
   "source": [
    "# PythonDecorators/my_decorator.py\n",
    "class my_decorator(object):\n",
    "\n",
    "    def __init__(self, f):\n",
    "        print(\"inside my_decorator.__init__()\")\n",
    "        f() # Prove that function definition has completed\n",
    "\n",
    "    def __call__(self):\n",
    "        print(\"inside my_decorator.__call__()\")\n",
    "\n",
    "@my_decorator\n",
    "def aFunction():\n",
    "    print(\"inside aFunction()\")\n",
    "\n",
    "print(\"Finished decorating aFunction()\")\n",
    "\n",
    "aFunction()"
   ]
  },
  {
   "cell_type": "code",
   "execution_count": null,
   "metadata": {},
   "outputs": [],
   "source": []
  }
 ],
 "metadata": {
  "kernelspec": {
   "display_name": "python_env",
   "language": "python",
   "name": "python_env"
  },
  "language_info": {
   "codemirror_mode": {
    "name": "ipython",
    "version": 3
   },
   "file_extension": ".py",
   "mimetype": "text/x-python",
   "name": "python",
   "nbconvert_exporter": "python",
   "pygments_lexer": "ipython3",
   "version": "3.8.5"
  }
 },
 "nbformat": 4,
 "nbformat_minor": 4
}
