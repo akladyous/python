{
 "cells": [
  {
   "cell_type": "code",
   "execution_count": null,
   "id": "colonial-freeze",
   "metadata": {},
   "outputs": [],
   "source": []
  },
  {
   "attachments": {
    "584dd602-0457-4606-a64c-ad183085d3e5.png": {
     "image/png": "[encoded data removed]"
    }
   },
   "cell_type": "markdown",
   "id": "experimental-flashing",
   "metadata": {},
   "source": [
    "Permutation Formula\n",
    "\n",
    "![image.png](attachment:584dd602-0457-4606-a64c-ad183085d3e5.png)"
   ]
  },
  {
   "cell_type": "code",
   "execution_count": null,
   "id": "advised-anderson",
   "metadata": {},
   "outputs": [],
   "source": []
  },
  {
   "attachments": {
    "102d07b2-8aa5-442f-b51e-03f1f633f3cc.png": {
     "image/png": "[encoded data removed]"
    }
   },
   "cell_type": "markdown",
   "id": "pending-refund",
   "metadata": {},
   "source": [
    "Combination Formula\n",
    "\n",
    "![image.png](attachment:102d07b2-8aa5-442f-b51e-03f1f633f3cc.png)"
   ]
  },
  {
   "cell_type": "code",
   "execution_count": null,
   "id": "complimentary-malta",
   "metadata": {},
   "outputs": [],
   "source": []
  }
 ],
 "metadata": {
  "kernelspec": {
   "display_name": "python_env",
   "language": "python",
   "name": "python_env"
  },
  "language_info": {
   "codemirror_mode": {
    "name": "ipython",
    "version": 3
   },
   "file_extension": ".py",
   "mimetype": "text/x-python",
   "name": "python",
   "nbconvert_exporter": "python",
   "pygments_lexer": "ipython3",
   "version": "3.8.5"
  }
 },
 "nbformat": 4,
 "nbformat_minor": 5
}
