{
 "cells": [
  {
   "cell_type": "code",
   "execution_count": 2,
   "id": "5166bf8c",
   "metadata": {},
   "outputs": [],
   "source": [
    "from collections import defaultdict"
   ]
  },
  {
   "cell_type": "code",
   "execution_count": 61,
   "id": "ca0a7287",
   "metadata": {},
   "outputs": [
    {
     "data": {
      "text/plain": [
       "'aa'"
      ]
     },
     "execution_count": 61,
     "metadata": {},
     "output_type": "execute_result"
    }
   ],
   "source": [
    "'AA'.lower()"
   ]
  },
  {
   "cell_type": "code",
   "execution_count": 51,
   "id": "1d0b82f4",
   "metadata": {},
   "outputs": [],
   "source": [
    "l1=['a', 'b','c','c']"
   ]
  },
  {
   "cell_type": "code",
   "execution_count": 35,
   "id": "a08195ec",
   "metadata": {},
   "outputs": [],
   "source": [
    "while 'c' in l1:\n",
    "    l1.remove('c')\n",
    "    "
   ]
  },
  {
   "cell_type": "code",
   "execution_count": 43,
   "id": "3698baed",
   "metadata": {},
   "outputs": [],
   "source": [
    "l1.remove(['c','c'])"
   ]
  },
  {
   "cell_type": "code",
   "execution_count": 86,
   "id": "0f27ebf3",
   "metadata": {},
   "outputs": [],
   "source": [
    "d1=dict.fromkeys((), False)"
   ]
  },
  {
   "cell_type": "code",
   "execution_count": 89,
   "id": "44c23ddc",
   "metadata": {},
   "outputs": [
    {
     "name": "stdout",
     "output_type": "stream",
     "text": [
      "None\n"
     ]
    }
   ],
   "source": [
    "print(d1.get('x'))"
   ]
  },
  {
   "cell_type": "code",
   "execution_count": 91,
   "id": "afaf02ef",
   "metadata": {},
   "outputs": [],
   "source": [
    "d1={'a': 1}"
   ]
  },
  {
   "cell_type": "code",
   "execution_count": 93,
   "id": "b88b2d80",
   "metadata": {},
   "outputs": [
    {
     "name": "stdout",
     "output_type": "stream",
     "text": [
      "None\n"
     ]
    }
   ],
   "source": [
    "print(d1.get('b'))"
   ]
  },
  {
   "cell_type": "code",
   "execution_count": 94,
   "id": "07e3d4df",
   "metadata": {},
   "outputs": [
    {
     "name": "stdout",
     "output_type": "stream",
     "text": [
      "False\n"
     ]
    }
   ],
   "source": [
    "print(d1.setdefault('b', False))"
   ]
  },
  {
   "cell_type": "code",
   "execution_count": 95,
   "id": "bbca0b62",
   "metadata": {},
   "outputs": [],
   "source": [
    "car = {\n",
    "  \"brand\": \"Ford\",\n",
    "  \"model\": \"Mustang\",\n",
    "  \"year\": 1964\n",
    "}"
   ]
  },
  {
   "cell_type": "code",
   "execution_count": 96,
   "id": "cfe18d80",
   "metadata": {},
   "outputs": [
    {
     "data": {
      "text/plain": [
       "dict_keys(['brand', 'model', 'year'])"
      ]
     },
     "execution_count": 96,
     "metadata": {},
     "output_type": "execute_result"
    }
   ],
   "source": [
    "car.keys()"
   ]
  },
  {
   "cell_type": "code",
   "execution_count": 97,
   "id": "1d272c3e",
   "metadata": {},
   "outputs": [
    {
     "data": {
      "text/plain": [
       "dict_values(['Ford', 'Mustang', 1964])"
      ]
     },
     "execution_count": 97,
     "metadata": {},
     "output_type": "execute_result"
    }
   ],
   "source": [
    "car.values()"
   ]
  },
  {
   "cell_type": "code",
   "execution_count": 98,
   "id": "5eaa4508",
   "metadata": {},
   "outputs": [
    {
     "data": {
      "text/plain": [
       "True"
      ]
     },
     "execution_count": 98,
     "metadata": {},
     "output_type": "execute_result"
    }
   ],
   "source": [
    "'brand' in car"
   ]
  },
  {
   "cell_type": "code",
   "execution_count": 78,
   "id": "ad51d0ff",
   "metadata": {},
   "outputs": [],
   "source": [
    "l1 = [x for x in range(1,11)]\n",
    "l2 = 'ciao a tutti belli e brutti'.split()"
   ]
  },
  {
   "cell_type": "code",
   "execution_count": 5,
   "id": "cf19de31",
   "metadata": {},
   "outputs": [],
   "source": [
    "s = [('yellow', 1), ('blue', 2), ('yellow', 3), ('blue', 4), ('red', 1)]"
   ]
  },
  {
   "cell_type": "code",
   "execution_count": 13,
   "id": "e14ef62d",
   "metadata": {},
   "outputs": [],
   "source": [
    "colors1 = defaultdict(list)\n",
    "colors2 = {}\n",
    "for k,v in s:\n",
    "#     colors1[k].append(v)\n",
    "    colors2.setdefault(k,[]).append(v)\n",
    "# colors2"
   ]
  },
  {
   "cell_type": "code",
   "execution_count": 14,
   "id": "d9d6d94c",
   "metadata": {},
   "outputs": [
    {
     "data": {
      "text/plain": [
       "[1, 3]"
      ]
     },
     "execution_count": 14,
     "metadata": {},
     "output_type": "execute_result"
    }
   ],
   "source": [
    "colors2['yellow']"
   ]
  },
  {
   "cell_type": "code",
   "execution_count": 15,
   "id": "f7d8d1df",
   "metadata": {},
   "outputs": [
    {
     "data": {
      "text/plain": [
       "{'yellow': [1, 3], 'blue': [2, 4], 'red': [1]}"
      ]
     },
     "execution_count": 15,
     "metadata": {},
     "output_type": "execute_result"
    }
   ],
   "source": [
    "colors2"
   ]
  },
  {
   "cell_type": "code",
   "execution_count": 120,
   "id": "1a71235c",
   "metadata": {},
   "outputs": [],
   "source": [
    "colors2 = {}\n",
    "colors2.setdefault(list)"
   ]
  },
  {
   "cell_type": "code",
   "execution_count": 121,
   "id": "789ad2e8",
   "metadata": {},
   "outputs": [
    {
     "data": {
      "text/plain": [
       "{list: None}"
      ]
     },
     "execution_count": 121,
     "metadata": {},
     "output_type": "execute_result"
    }
   ],
   "source": [
    "colors2"
   ]
  },
  {
   "cell_type": "code",
   "execution_count": 83,
   "id": "bba15cd9",
   "metadata": {},
   "outputs": [
    {
     "name": "stdout",
     "output_type": "stream",
     "text": [
      "['a', 'e', 'belli', 'brutti', 'tutti', 'ciao']\n"
     ]
    }
   ],
   "source": [
    "def even(n):\n",
    "    return n if n %2==0 else None\n",
    "l2.sort(key=lambda x: x[-1])\n",
    "print(l2)"
   ]
  },
  {
   "cell_type": "code",
   "execution_count": 68,
   "id": "939345f4",
   "metadata": {},
   "outputs": [
    {
     "data": {
      "text/plain": [
       "[1, 2, 3, 4, 5, 6, 7, 8, 9, 10]"
      ]
     },
     "execution_count": 68,
     "metadata": {},
     "output_type": "execute_result"
    }
   ],
   "source": [
    "[x for x in range(1,11)]"
   ]
  },
  {
   "cell_type": "code",
   "execution_count": 66,
   "id": "0fffd5c0",
   "metadata": {},
   "outputs": [
    {
     "data": {
      "text/plain": [
       "0"
      ]
     },
     "execution_count": 66,
     "metadata": {},
     "output_type": "execute_result"
    }
   ],
   "source": [
    "4%2"
   ]
  },
  {
   "cell_type": "code",
   "execution_count": 59,
   "id": "a443f6c9",
   "metadata": {},
   "outputs": [
    {
     "name": "stdout",
     "output_type": "stream",
     "text": [
      "ko\n"
     ]
    }
   ],
   "source": [
    "n=None\n",
    "if n:\n",
    "    print('ok')\n",
    "else:\n",
    "    print('ko')"
   ]
  },
  {
   "cell_type": "code",
   "execution_count": 45,
   "id": "8a34f7ed",
   "metadata": {},
   "outputs": [
    {
     "name": "stdout",
     "output_type": "stream",
     "text": [
      "[{'car': 'Mitsubishi', 'year': 2000}, {'car': 'Ford', 'year': 2005}, {'car': 'VW', 'year': 2011}, {'car': 'BMW', 'year': 2019}]\n"
     ]
    }
   ],
   "source": [
    "def myFunc(e):\n",
    "  return e['year']\n",
    "\n",
    "cars = [\n",
    "  {'car': 'Ford', 'year': 2005},\n",
    "  {'car': 'Mitsubishi', 'year': 2000},\n",
    "  {'car': 'BMW', 'year': 2019},\n",
    "  {'car': 'VW', 'year': 2011}\n",
    "]\n",
    "\n",
    "cars.sort(key=myFunc)\n",
    "print(cars)"
   ]
  },
  {
   "cell_type": "code",
   "execution_count": 18,
   "id": "534d547c",
   "metadata": {},
   "outputs": [
    {
     "data": {
      "text/plain": [
       "'John Doe'"
      ]
     },
     "execution_count": 18,
     "metadata": {},
     "output_type": "execute_result"
    }
   ],
   "source": [
    "first_name = 'John'\n",
    "last_name = 'Doe'\n",
    "' '.join([first_name, last_name])"
   ]
  },
  {
   "cell_type": "code",
   "execution_count": 20,
   "id": "2807f745",
   "metadata": {},
   "outputs": [],
   "source": [
    "l1 = [1,2,2,2,3]"
   ]
  },
  {
   "cell_type": "code",
   "execution_count": 21,
   "id": "e9cd53f5",
   "metadata": {},
   "outputs": [
    {
     "ename": "SyntaxError",
     "evalue": "invalid syntax (2997198579.py, line 1)",
     "output_type": "error",
     "traceback": [
      "\u001b[0;36m  Cell \u001b[0;32mIn [21], line 1\u001b[0;36m\u001b[0m\n\u001b[0;31m    for x not in l1:\u001b[0m\n\u001b[0m          ^\u001b[0m\n\u001b[0;31mSyntaxError\u001b[0m\u001b[0;31m:\u001b[0m invalid syntax\n"
     ]
    }
   ],
   "source": [
    "for x not in l1:\n",
    "    print(x)"
   ]
  },
  {
   "cell_type": "code",
   "execution_count": 22,
   "id": "bbd0187d",
   "metadata": {},
   "outputs": [
    {
     "ename": "SyntaxError",
     "evalue": "expected 'else' after 'if' expression (343420983.py, line 5)",
     "output_type": "error",
     "traceback": [
      "\u001b[0;36m  Cell \u001b[0;32mIn [22], line 5\u001b[0;36m\u001b[0m\n\u001b[0;31m    diff.push(x) if x != b[0]\u001b[0m\n\u001b[0m    ^\u001b[0m\n\u001b[0;31mSyntaxError\u001b[0m\u001b[0;31m:\u001b[0m expected 'else' after 'if' expression\n"
     ]
    }
   ],
   "source": [
    "def array_diff(a, b):\n",
    "    #your code here\n",
    "    diff = []\n",
    "    for x in a:\n",
    "        diff.push(x) if x != b[0]\n",
    "    return diff"
   ]
  },
  {
   "cell_type": "code",
   "execution_count": null,
   "id": "8647e34a",
   "metadata": {},
   "outputs": [],
   "source": []
  }
 ],
 "metadata": {
  "kernelspec": {
   "display_name": "Python 3 (ipykernel)",
   "language": "python",
   "name": "python3"
  },
  "language_info": {
   "codemirror_mode": {
    "name": "ipython",
    "version": 3
   },
   "file_extension": ".py",
   "mimetype": "text/x-python",
   "name": "python",
   "nbconvert_exporter": "python",
   "pygments_lexer": "ipython3",
   "version": "3.10.8"
  }
 },
 "nbformat": 4,
 "nbformat_minor": 5
}
